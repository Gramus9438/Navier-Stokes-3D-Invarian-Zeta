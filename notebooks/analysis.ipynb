{
 "cells": [
  {
   "cell_type": "markdown",
   "metadata": {},
   "source": [
    "# Analysis of ζ(t) and Physical Diagnostics\n",
    "\n",
    "This notebook loads a CSV file produced by the project scripts and plots key diagnostics:\n",
    "- ζ(t)\n",
    "- Energy\n",
    "\n",
    "Instructions:\n",
    "1. Make sure you've generated a results CSV in `../data/` (e.g., by running:\n",
    "   ```bash\n",
    "   python ../scripts/run_case.py --case taylor_green --N 32 --steps 120 --dt 0.004 --nu 0.01\n",
    "   ```\n",
    "2. Update `CSV_PATH` below if needed.\n"
   ]
  },
  {
   "cell_type": "code",
   "execution_count": null,
   "metadata": {},
   "outputs": [],
   "source": [
    "# 🔧 Configuration: path to your CSV\n",
    "CSV_PATH = \"../data/taylor_green_N32_nu0.01.csv\"  # change if needed\n",
    "\n",
    "import pandas as pd\n",
    "import matplotlib.pyplot as plt\n",
    "from pathlib import Path\n",
    "\n",
    "p = Path(CSV_PATH)\n",
    "assert p.exists(), f\"CSV not found: {p}. Run a simulation into ../data/ or fix CSV_PATH.\"\n",
    "df = pd.read_csv(p)\n",
    "df.head()"
   ]
  },
  {
   "cell_type": "markdown",
   "metadata": {},
   "source": [
    "## Plot ζ(t)\n",
    "One chart per figure, using matplotlib."
   ]
  },
  {
   "cell_type": "code",
   "execution_count": null,
   "metadata": {},
   "outputs": [],
   "source": [
    "plt.figure()\n",
    "plt.plot(df[\"t\"], df[\"zeta\"], label=\"ζ(t)\")\n",
    "plt.xlabel(\"t\")\n",
    "plt.ylabel(\"ζ(t)\")\n",
    "plt.legend()\n",
    "plt.title(\"Invariant ζ(t) over time\")\n",
    "plt.show()"
   ]
  },
  {
   "cell_type": "markdown",
   "metadata": {},
   "source": [
    "## Plot Energy\n",
    "Energy diagnostic over time."
   ]
  },
  {
   "cell_type": "code",
   "execution_count": null,
   "metadata": {},
   "outputs": [],
   "source": [
    "plt.figure()\n",
    "plt.plot(df[\"t\"], df[\"energy\"], label=\"Energy\")\n",
    "plt.xlabel(\"t\")\n",
    "plt.ylabel(\"Energy\")\n",
    "plt.legend()\n",
    "plt.title(\"Energy over time\")\n",
    "plt.show()"
   ]
  },
  {
   "cell_type": "markdown",
   "metadata": {},
   "source": [
    "## Basic statistics"
   ]
  },
  {
   "cell_type": "code",
   "execution_count": null,
   "metadata": {},
   "outputs": [],
   "source": [
    "stats = {\n",
    "    \"t_min\": float(df[\"t\"].min()),\n",
    "    \"t_max\": float(df[\"t\"].max()),\n",
    "    \"zeta_min\": float(df[\"zeta\"].min()),\n",
    "    \"zeta_max\": float(df[\"zeta\"].max()),\n",
    "    \"energy_min\": float(df[\"energy\"].min()),\n",
    "    \"energy_max\": float(df[\"energy\"].max()),\n",
    "}\n",
    "stats"
   ]
  },
  {
   "cell_type": "markdown",
   "metadata": {},
   "source": [
    "---\n",
    "Notebook generated automatically.\n"
   ]
  }
 ],
 "metadata": {
  "kernelspec": {
   "display_name": "Python 3",
   "language": "python",
   "name": "python3"
  },
  "language_info": {
   "name": "python",
   "version": "3.x"
  }
 },
 "nbformat": 4,
 "nbformat_minor": 5
}
