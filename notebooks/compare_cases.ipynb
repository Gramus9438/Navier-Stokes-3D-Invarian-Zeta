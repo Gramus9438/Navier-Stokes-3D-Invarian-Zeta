{
 "cells": [
  {
   "cell_type": "markdown",
   "metadata": {},
   "source": [
    "# Compare ζ(t) and Energy across multiple cases\n",
    "\n",
    "This notebook overlays diagnostics from **multiple CSV files** produced by the project scripts.\n",
    "\n",
    "## How to use\n",
    "1. Generate some CSVs in `../data/` (single runs) or `../artifacts/run-.../` (benchmarks).\n",
    "2. Edit the `CASE_FILES` list below to point to the CSVs you want to compare.\n",
    "3. Run the cells to plot **ζ(t)** and **Energy** on shared figures.\n"
   ]
  },
  {
   "cell_type": "code",
   "execution_count": null,
   "metadata": {},
   "outputs": [],
   "source": [
    "# 🔧 Configuration: add CSV paths you want to compare\n",
    "CASE_FILES = [\n",
    "    # Examples (edit to match your files):\n",
    "    # \"../data/taylor_green_N32_nu0.01.csv\",\n",
    "    # \"../data/beltrami_N32_nu0.01.csv\",\n",
    "    # \"../artifacts/run-20250101-123000/taylor_green.csv\",\n",
    "]\n",
    "\n",
    "from pathlib import Path\n",
    "import pandas as pd\n",
    "import matplotlib.pyplot as plt\n",
    "\n",
    "assert len(CASE_FILES) > 0, \"Please fill CASE_FILES with one or more CSV paths.\"\n",
    "for p in CASE_FILES:\n",
    "    assert Path(p).exists(), f\"CSV not found: {p}\"\n",
    "len(CASE_FILES)"
   ]
  },
  {
   "cell_type": "markdown",
   "metadata": {},
   "source": [
    "## Helper to load and label cases"
   ]
  },
  {
   "cell_type": "code",
   "execution_count": null,
   "metadata": {},
   "outputs": [],
   "source": [
    "def load_case(path):\n",
    "    path = Path(path)\n",
    "    df = pd.read_csv(path)\n",
    "    label = path.stem  # e.g., taylor_green_N32_nu0.01\n",
    "    return label, df\n",
    "\n",
    "cases = [load_case(p) for p in CASE_FILES]\n",
    "[(lbl, df.shape) for (lbl, df) in cases]"
   ]
  },
  {
   "cell_type": "markdown",
   "metadata": {},
   "source": [
    "## Overlay plot: ζ(t)"
   ]
  },
  {
   "cell_type": "code",
   "execution_count": null,
   "metadata": {},
   "outputs": [],
   "source": [
    "plt.figure()\n",
    "for label, df in cases:\n",
    "    plt.plot(df['t'], df['zeta'], label=label)\n",
    "plt.xlabel('t')\n",
    "plt.ylabel('ζ(t)')\n",
    "plt.title('ζ(t) comparison')\n",
    "plt.legend()\n",
    "plt.show()"
   ]
  },
  {
   "cell_type": "markdown",
   "metadata": {},
   "source": [
    "## Overlay plot: Energy"
   ]
  },
  {
   "cell_type": "code",
   "execution_count": null,
   "metadata": {},
   "outputs": [],
   "source": [
    "plt.figure()\n",
    "for label, df in cases:\n",
    "    plt.plot(df['t'], df['energy'], label=label)\n",
    "plt.xlabel('t')\n",
    "plt.ylabel('Energy')\n",
    "plt.title('Energy comparison')\n",
    "plt.legend()\n",
    "plt.show()"
   ]
  },
  {
   "cell_type": "markdown",
   "metadata": {},
   "source": [
    "## Basic statistics per case"
   ]
  },
  {
   "cell_type": "code",
   "execution_count": null,
   "metadata": {},
   "outputs": [],
   "source": [
    "rows = []\n",
    "for label, df in cases:\n",
    "    rows.append({\n",
    "        'case': label,\n",
    "        't_min': float(df['t'].min()),\n",
    "        't_max': float(df['t'].max()),\n",
    "        'zeta_min': float(df['zeta'].min()),\n",
    "        'zeta_max': float(df['zeta'].max()),\n",
    "        'energy_min': float(df['energy'].min()),\n",
    "        'energy_max': float(df['energy'].max()),\n",
    "    })\n",
    "import pandas as pd\n",
    "pd.DataFrame(rows)"
   ]
  },
  {
   "cell_type": "markdown",
   "metadata": {},
   "source": [
    "---\n",
    "Notebook generated automatically."
   ]
  }
 ],
 "metadata": {
  "kernelspec": {
   "display_name": "Python 3",
   "language": "python",
   "name": "python3"
  },
  "language_info": {
   "name": "python",
   "version": "3.x"
  }
 },
 "nbformat": 4,
 "nbformat_minor": 5
}
